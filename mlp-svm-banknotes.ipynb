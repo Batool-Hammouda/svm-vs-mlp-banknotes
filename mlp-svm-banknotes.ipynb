{
 "cells": [
  {
   "cell_type": "code",
   "execution_count": 2,
   "id": "a9889458",
   "metadata": {},
   "outputs": [
    {
     "name": "stdout",
     "output_type": "stream",
     "text": [
      "<class 'pandas.core.frame.DataFrame'>\n",
      "Index: 12700 entries, 5716 to 10604\n",
      "Columns: 260 entries, Unnamed: 0 to Orientation\n",
      "dtypes: float64(256), int64(1), object(3)\n",
      "memory usage: 25.3+ MB\n",
      "None\n"
     ]
    }
   ],
   "source": [
    "import pandas as pd\n",
    "from sklearn.model_selection import train_test_split\n",
    "from sklearn.preprocessing import StandardScaler\n",
    "\n",
    "# Load the dataset\n",
    "dataset_path = \"C:\\\\Users\\\\msi\\\\Downloads\\\\BankNotesDataset.csv\"\n",
    "df = pd.read_csv(dataset_path)\n",
    "\n",
    "# Take a subset of the data \n",
    "subset_df = df.sample(n=12700, random_state=42)\n",
    "\n",
    "\n",
    "# Splitting the 'Denomination' column at the first underscore only\n",
    "subset_df['Denomination'], subset_df['Orientation'] = zip(*subset_df['Denomination'].apply(lambda x: x.split('_', 1) if '_' in x else (x, 'Unknown')))\n",
    "\n",
    "# Separate features and labels\n",
    "X = subset_df.iloc[:, :-3]  # Features\n",
    "y_currency = subset_df['Currency']  # Currency labels\n",
    "y_denomination = subset_df['Denomination']  # Denomination labels\n",
    "y_orientation = subset_df['Orientation']  # Orientation labels\n",
    "\n",
    "X_train_currency, X_test_currency, y_currency_train, y_currency_test = train_test_split(X, y_currency, test_size=0.2, random_state=42)\n",
    "X_train_denomination, X_test_denomination, y_denomination_train, y_denomination_test = train_test_split(X, y_denomination, test_size=0.2, random_state=42)\n",
    "X_train_orientation, X_test_orientation, y_orientation_train, y_orientation_test = train_test_split(X, y_orientation, test_size=0.2, random_state=42)\n",
    "\n",
    "\n",
    "scaler = StandardScaler()\n",
    "X_train_currency_scaled = scaler.fit_transform(X_train_currency)\n",
    "X_test_currency_scaled = scaler.transform(X_test_currency)\n",
    "\n",
    "X_train_denomination_scaled = scaler.fit_transform(X_train_denomination)\n",
    "X_test_denomination_scaled = scaler.transform(X_test_denomination)\n",
    "\n",
    "X_train_orientation_scaled = scaler.fit_transform(X_train_orientation)\n",
    "X_test_orientation_scaled = scaler.transform(X_test_orientation)\n",
    "\n",
    "print(subset_df.info())\n"
   ]
  },
  {
   "cell_type": "code",
   "execution_count": 9,
   "id": "0bbc1a40",
   "metadata": {},
   "outputs": [
    {
     "name": "stdout",
     "output_type": "stream",
     "text": [
      "Best hyperparameters for SVM Currency: {'C': 0.1}\n",
      "Best hyperparameters for SVM Denomination: {'C': 0.1}\n",
      "Best hyperparameters for SVM Orientation: {'C': 0.1}\n",
      "Best hyperparameters for MLP Currency: {'alpha': 0.01, 'hidden_layer_sizes': (150,)}\n",
      "Best hyperparameters for MLP Denomination: {'alpha': 0.01, 'hidden_layer_sizes': (150,)}\n",
      "Best hyperparameters for MLP Orientation: {'alpha': 0.001, 'hidden_layer_sizes': (150,)}\n",
      "SVM Accuracy for Currency: 0.9775590551181103\n",
      "SVM Accuracy for Denomination: 0.8842519685039371\n",
      "SVM Accuracy for Orientation: 0.9062992125984252\n",
      "MLP Accuracy for Currency: 0.9759842519685039\n",
      "MLP Accuracy for Denomination: 0.934251968503937\n",
      "MLP Accuracy for Orientation: 0.9413385826771653\n"
     ]
    }
   ],
   "source": [
    "from sklearn.svm import SVC\n",
    "from sklearn.model_selection import GridSearchCV\n",
    "from sklearn.neural_network import MLPClassifier\n",
    "\n",
    "# Define parameter grids for SVM and MLP classifiers\n",
    "svm_param_grid = {'C': [0.1, 1, 10]}\n",
    "mlp_param_grid = {'hidden_layer_sizes': [(50,), (100,), (150,)], 'alpha': [0.0001, 0.001, 0.01]}\n",
    "\n",
    "# Grid search for SVM classifiers\n",
    "svm_currency_grid = GridSearchCV(SVC(kernel='linear'), param_grid=svm_param_grid, cv=3)\n",
    "svm_denomination_grid = GridSearchCV(SVC(kernel='linear'), param_grid=svm_param_grid, cv=3)\n",
    "svm_orientation_grid = GridSearchCV(SVC(kernel='linear'), param_grid=svm_param_grid, cv=3)\n",
    "\n",
    "svm_currency_grid.fit(X_train_currency_scaled, y_currency_train)\n",
    "svm_denomination_grid.fit(X_train_denomination_scaled, y_denomination_train)\n",
    "svm_orientation_grid.fit(X_train_orientation_scaled, y_orientation_train)\n",
    "\n",
    "# Grid search for MLP classifiers\n",
    "mlp_currency_grid = GridSearchCV(MLPClassifier(max_iter=1000, tol=0.01), param_grid=mlp_param_grid, cv=3)\n",
    "mlp_denomination_grid = GridSearchCV(MLPClassifier(max_iter=1000, tol=0.01), param_grid=mlp_param_grid, cv=3)\n",
    "mlp_orientation_grid = GridSearchCV(MLPClassifier(max_iter=1000, tol=0.01), param_grid=mlp_param_grid, cv=3)\n",
    "\n",
    "mlp_currency_grid.fit(X_train_currency_scaled, y_currency_train)\n",
    "mlp_denomination_grid.fit(X_train_denomination_scaled, y_denomination_train)\n",
    "mlp_orientation_grid.fit(X_train_orientation_scaled, y_orientation_train)\n",
    "\n",
    "# Best hyperparameters for SVM classifiers\n",
    "print(\"Best hyperparameters for SVM Currency:\", svm_currency_grid.best_params_)\n",
    "print(\"Best hyperparameters for SVM Denomination:\", svm_denomination_grid.best_params_)\n",
    "print(\"Best hyperparameters for SVM Orientation:\", svm_orientation_grid.best_params_)\n",
    "\n",
    "# Best hyperparameters for MLP classifiers\n",
    "print(\"Best hyperparameters for MLP Currency:\", mlp_currency_grid.best_params_)\n",
    "print(\"Best hyperparameters for MLP Denomination:\", mlp_denomination_grid.best_params_)\n",
    "print(\"Best hyperparameters for MLP Orientation:\", mlp_orientation_grid.best_params_)\n",
    "\n",
    "# Evaluate SVM classifiers\n",
    "svm_currency_accuracy = svm_currency_grid.score(X_test_currency_scaled, y_currency_test)\n",
    "svm_denomination_accuracy = svm_denomination_grid.score(X_test_denomination_scaled, y_denomination_test)\n",
    "svm_orientation_accuracy = svm_orientation_grid.score(X_test_orientation_scaled, y_orientation_test)\n",
    "\n",
    "print(\"SVM Accuracy for Currency:\", svm_currency_accuracy)\n",
    "print(\"SVM Accuracy for Denomination:\", svm_denomination_accuracy)\n",
    "print(\"SVM Accuracy for Orientation:\", svm_orientation_accuracy)\n",
    "\n",
    "# Evaluate MLP classifiers\n",
    "mlp_currency_accuracy = mlp_currency_grid.score(X_test_currency_scaled, y_currency_test)\n",
    "mlp_denomination_accuracy = mlp_denomination_grid.score(X_test_denomination_scaled, y_denomination_test)\n",
    "mlp_orientation_accuracy = mlp_orientation_grid.score(X_test_orientation_scaled, y_orientation_test)\n",
    "\n",
    "print(\"MLP Accuracy for Currency:\", mlp_currency_accuracy)\n",
    "print(\"MLP Accuracy for Denomination:\", mlp_denomination_accuracy)\n",
    "print(\"MLP Accuracy for Orientation:\", mlp_orientation_accuracy)\n"
   ]
  },
  {
   "cell_type": "code",
   "execution_count": 4,
   "id": "215c9d98",
   "metadata": {},
   "outputs": [],
   "source": [
    "from sklearn.decomposition import PCA\n",
    "\n",
    "# Initialize PCA with desired number of components\n",
    "pca = PCA(n_components=200) \n",
    "\n",
    "# Fit PCA on the scaled training data for currency\n",
    "pca.fit(X_train_currency_scaled)\n",
    "\n",
    "# Transform both training and testing data using PCA\n",
    "X_train_currency_pca = pca.transform(X_train_currency_scaled)\n",
    "X_test_currency_pca = pca.transform(X_test_currency_scaled)\n",
    "\n",
    "# Fit PCA on the scaled training data for denomination\n",
    "pca.fit(X_train_denomination_scaled)\n",
    "\n",
    "# Transform both training and testing data using PCA\n",
    "X_train_denomination_pca = pca.transform(X_train_denomination_scaled)\n",
    "X_test_denomination_pca = pca.transform(X_test_denomination_scaled)\n",
    "\n",
    "# Fit PCA on the scaled training data for orientation\n",
    "pca.fit(X_train_orientation_scaled)\n",
    "\n",
    "# Transform both training and testing data using PCA\n",
    "X_train_orientation_pca = pca.transform(X_train_orientation_scaled)\n",
    "X_test_orientation_pca = pca.transform(X_test_orientation_scaled)\n"
   ]
  },
  {
   "cell_type": "code",
   "execution_count": 10,
   "id": "1b925e25",
   "metadata": {},
   "outputs": [
    {
     "name": "stdout",
     "output_type": "stream",
     "text": [
      "Best hyperparameters for SVM Currency after PCA: {'C': 0.1}\n",
      "Best hyperparameters for MLP Currency after PCA: {'alpha': 0.001, 'hidden_layer_sizes': (150,)}\n",
      "SVM Accuracy for Currency after PCA: 0.9751968503937007\n",
      "MLP Accuracy for Currency after PCA: 0.9779527559055118\n"
     ]
    }
   ],
   "source": [
    "from sklearn.model_selection import GridSearchCV\n",
    "\n",
    "# Define parameter grids for SVM and MLP classifiers\n",
    "svm_param_grid = {'C': [0.1, 1, 10]}\n",
    "mlp_param_grid = {'hidden_layer_sizes': [(50,), (100,), (150,)], 'alpha': [0.0001, 0.001, 0.01]}\n",
    "\n",
    "# Grid search for SVM classifier on the PCA-transformed data for currency\n",
    "svm_currency_grid = GridSearchCV(SVC(kernel='linear'), param_grid=svm_param_grid, cv=3)\n",
    "svm_currency_grid.fit(X_train_currency_pca, y_currency_train)\n",
    "\n",
    "# Grid search for MLP classifier on the PCA-transformed data for currency\n",
    "mlp_currency_grid = GridSearchCV(MLPClassifier(max_iter=1000, tol=0.01), param_grid=mlp_param_grid, cv=3)\n",
    "mlp_currency_grid.fit(X_train_currency_pca, y_currency_train)\n",
    "\n",
    "# Best hyperparameters for SVM classifier\n",
    "print(\"Best hyperparameters for SVM Currency after PCA:\", svm_currency_grid.best_params_)\n",
    "\n",
    "# Best hyperparameters for MLP classifier\n",
    "print(\"Best hyperparameters for MLP Currency after PCA:\", mlp_currency_grid.best_params_)\n",
    "\n",
    "# Evaluate SVM classifier\n",
    "svm_currency_accuracy = svm_currency_grid.score(X_test_currency_pca, y_currency_test)\n",
    "print(\"SVM Accuracy for Currency after PCA:\", svm_currency_accuracy)\n",
    "\n",
    "# Evaluate MLP classifier\n",
    "mlp_currency_accuracy = mlp_currency_grid.score(X_test_currency_pca, y_currency_test)\n",
    "print(\"MLP Accuracy for Currency after PCA:\", mlp_currency_accuracy)\n"
   ]
  },
  {
   "cell_type": "code",
   "execution_count": 8,
   "id": "0d18f6f3",
   "metadata": {},
   "outputs": [
    {
     "name": "stdout",
     "output_type": "stream",
     "text": [
      "Best hyperparameters for SVM Denomination after PCA: {'C': 0.1}\n",
      "Best hyperparameters for MLP Denomination after PCA: {'alpha': 0.001, 'hidden_layer_sizes': (150,)}\n",
      "SVM Accuracy for Denomination after PCA: 0.8755905511811024\n",
      "MLP Accuracy for Denomination after PCA: 0.9385826771653544\n"
     ]
    }
   ],
   "source": [
    "from sklearn.model_selection import GridSearchCV\n",
    "\n",
    "# Define parameter grids for SVM and MLP classifiers\n",
    "svm_param_grid = {'C': [0.1, 1, 10]}\n",
    "mlp_param_grid = {'hidden_layer_sizes': [(50,), (100,), (150,)], 'alpha': [0.0001, 0.001, 0.01]}\n",
    "\n",
    "# Grid search for SVM classifier on the PCA-transformed data for denomination\n",
    "svm_denomination_grid = GridSearchCV(SVC(kernel='linear'), param_grid=svm_param_grid, cv=3)\n",
    "svm_denomination_grid.fit(X_train_denomination_pca, y_denomination_train)\n",
    "\n",
    "# Grid search for MLP classifier on the PCA-transformed data for denomination\n",
    "mlp_denomination_grid = GridSearchCV(MLPClassifier(max_iter=1000, tol=0.01), param_grid=mlp_param_grid, cv=3)\n",
    "mlp_denomination_grid.fit(X_train_denomination_pca, y_denomination_train)\n",
    "\n",
    "# Best hyperparameters for SVM classifier\n",
    "print(\"Best hyperparameters for SVM Denomination after PCA:\", svm_denomination_grid.best_params_)\n",
    "\n",
    "# Best hyperparameters for MLP classifier\n",
    "print(\"Best hyperparameters for MLP Denomination after PCA:\", mlp_denomination_grid.best_params_)\n",
    "\n",
    "# Evaluate SVM classifier\n",
    "svm_denomination_accuracy = svm_denomination_grid.score(X_test_denomination_pca, y_denomination_test)\n",
    "print(\"SVM Accuracy for Denomination after PCA:\", svm_denomination_accuracy)\n",
    "\n",
    "# Evaluate MLP classifier\n",
    "mlp_denomination_accuracy = mlp_denomination_grid.score(X_test_denomination_pca, y_denomination_test)\n",
    "print(\"MLP Accuracy for Denomination after PCA:\", mlp_denomination_accuracy)\n"
   ]
  },
  {
   "cell_type": "code",
   "execution_count": 9,
   "id": "3b8c3483",
   "metadata": {},
   "outputs": [
    {
     "name": "stdout",
     "output_type": "stream",
     "text": [
      "Best hyperparameters for SVM Orientation after PCA: {'C': 0.1}\n",
      "Best hyperparameters for MLP Orientation after PCA: {'alpha': 0.001, 'hidden_layer_sizes': (150,)}\n",
      "SVM Accuracy for Orientation after PCA: 0.9035433070866141\n",
      "MLP Accuracy for Orientation after PCA: 0.9385826771653544\n"
     ]
    }
   ],
   "source": [
    "# Grid search for SVM classifier on the PCA-transformed data for orientation\n",
    "svm_orientation_grid = GridSearchCV(SVC(kernel='linear'), param_grid=svm_param_grid, cv=3)\n",
    "svm_orientation_grid.fit(X_train_orientation_pca, y_orientation_train)\n",
    "\n",
    "# Grid search for MLP classifier on the PCA-transformed data for orientation\n",
    "mlp_orientation_grid = GridSearchCV(MLPClassifier(max_iter=1000, tol=0.01), param_grid=mlp_param_grid, cv=3)\n",
    "mlp_orientation_grid.fit(X_train_orientation_pca, y_orientation_train)\n",
    "\n",
    "# Best hyperparameters for SVM classifier\n",
    "print(\"Best hyperparameters for SVM Orientation after PCA:\", svm_orientation_grid.best_params_)\n",
    "\n",
    "# Best hyperparameters for MLP classifier\n",
    "print(\"Best hyperparameters for MLP Orientation after PCA:\", mlp_orientation_grid.best_params_)\n",
    "\n",
    "# Evaluate SVM classifier\n",
    "svm_orientation_accuracy = svm_orientation_grid.score(X_test_orientation_pca, y_orientation_test)\n",
    "print(\"SVM Accuracy for Orientation after PCA:\", svm_orientation_accuracy)\n",
    "\n",
    "# Evaluate MLP classifier\n",
    "mlp_orientation_accuracy = mlp_orientation_grid.score(X_test_orientation_pca, y_orientation_test)\n",
    "print(\"MLP Accuracy for Orientation after PCA:\", mlp_orientation_accuracy)\n"
   ]
  },
  {
   "cell_type": "markdown",
   "id": "adfe7a54",
   "metadata": {},
   "source": [
    "Option 2\n"
   ]
  },
  {
   "cell_type": "code",
   "execution_count": 1,
   "id": "974fa7df",
   "metadata": {},
   "outputs": [
    {
     "name": "stdout",
     "output_type": "stream",
     "text": [
      "   Unnamed: 0       v_0       v_1       v_2       v_3       v_4       v_5  \\\n",
      "0    1.043680 -0.832476 -0.845620 -0.001116  0.035986  0.418565 -0.669739   \n",
      "1   -0.983174 -0.832476 -0.845620 -1.015671 -0.088848  0.622374 -0.669739   \n",
      "2    0.093789  1.489929  0.346792 -0.828336  0.603328  0.247659 -0.669739   \n",
      "3   -0.755312 -0.832476  0.647362 -0.723153 -0.345735  1.016838  2.789939   \n",
      "4    0.171234  1.064169 -0.436569 -0.170665 -0.982764 -0.958141  0.268282   \n",
      "\n",
      "        v_6       v_7       v_8  ...     v_246     v_247     v_248     v_249  \\\n",
      "0 -0.627793 -0.708573  0.801463  ...  0.158470  2.064332 -0.424497 -0.981267   \n",
      "1 -0.713254  0.672900 -0.533858  ... -0.911672 -0.752726  0.394915  1.603563   \n",
      "2 -0.713254 -0.606803 -0.874762  ... -0.522613  0.339103  0.597836 -0.762828   \n",
      "3  2.193294  0.394470 -0.612061  ...  2.001860 -0.752726  0.428857 -0.274922   \n",
      "4  0.409763  1.031207 -0.874762  ...  3.858942  1.367292  1.375137 -0.981267   \n",
      "\n",
      "      v_250     v_251     v_252     v_253     v_254     v_255  \n",
      "0  0.640423  3.532854  0.642935  2.536186 -0.247748 -0.218627  \n",
      "1  0.816918 -0.750034 -0.303722 -0.023968 -0.810932 -1.027591  \n",
      "2 -0.226947 -0.750034  0.224146 -0.736546  0.081889 -1.027591  \n",
      "3 -0.654186  0.316125 -0.692060 -0.106242  2.188046 -1.027591  \n",
      "4 -0.654186  0.759716 -0.000591  2.138652 -0.322865 -0.114433  \n",
      "\n",
      "[5 rows x 257 columns]\n"
     ]
    }
   ],
   "source": [
    "import pandas as pd\n",
    "from sklearn.model_selection import train_test_split\n",
    "from sklearn.preprocessing import StandardScaler, LabelEncoder\n",
    "\n",
    "# Load the dataset\n",
    "dataset_path = \"C:\\\\Users\\\\msi\\\\Downloads\\\\BankNotesDataset.csv\"\n",
    "df = pd.read_csv(dataset_path)\n",
    "\n",
    "# Take a random subset of 12,700 samples\n",
    "df_subset = df.sample(n=12700, random_state=42)\n",
    "\n",
    "# Split the 'Denomination' column at the first underscore only\n",
    "df_subset['Denomination'], df_subset['Orientation'] = zip(*df_subset['Denomination'].apply(lambda x: x.split('_', 1) if '_' in x else (x, 'Unknown')))\n",
    "\n",
    "# Merge currency, denomination, and orientation into a new combined label\n",
    "df_subset['combined_label'] = df_subset['Currency'] + '_' + df_subset['Denomination'].astype(str) + '_' + df_subset['Orientation'].astype(str)\n",
    "\n",
    "# Drop the individual label columns\n",
    "df_subset.drop(['Currency', 'Denomination', 'Orientation'], axis=1, inplace=True)\n",
    "\n",
    "# Separate features and combined label\n",
    "X = df_subset.iloc[:, :-1]  # Features\n",
    "y = df_subset['combined_label']  # Combined label\n",
    "\n",
    "# Standardize numerical features and split the data into training and testing sets\n",
    "scaler = StandardScaler()\n",
    "X_scaled = scaler.fit_transform(X)\n",
    "X_train, X_test, y_train, y_test = train_test_split(X_scaled, y, test_size=0.2, random_state=42)\n",
    "\n",
    "# Display the first few rows of the preprocessed features\n",
    "print(pd.DataFrame(X_train, columns=X.columns).head())\n"
   ]
  },
  {
   "cell_type": "code",
   "execution_count": 3,
   "id": "da130231",
   "metadata": {},
   "outputs": [
    {
     "name": "stderr",
     "output_type": "stream",
     "text": [
      "c:\\Users\\msi\\AppData\\Local\\Programs\\Python\\Python310\\lib\\site-packages\\sklearn\\model_selection\\_split.py:725: UserWarning: The least populated class in y has only 1 members, which is less than n_splits=3.\n",
      "  warnings.warn(\n"
     ]
    },
    {
     "name": "stdout",
     "output_type": "stream",
     "text": [
      "Best SVM Accuracy: 0.934251968503937\n",
      "Best SVM Parameters: {'C': 1, 'kernel': 'linear'}\n"
     ]
    },
    {
     "name": "stderr",
     "output_type": "stream",
     "text": [
      "c:\\Users\\msi\\AppData\\Local\\Programs\\Python\\Python310\\lib\\site-packages\\sklearn\\model_selection\\_split.py:725: UserWarning: The least populated class in y has only 1 members, which is less than n_splits=3.\n",
      "  warnings.warn(\n"
     ]
    },
    {
     "name": "stdout",
     "output_type": "stream",
     "text": [
      "Best MLP Accuracy: 0.9358267716535433\n",
      "Best MLP Parameters: {'alpha': 0.001, 'hidden_layer_sizes': (150,)}\n"
     ]
    }
   ],
   "source": [
    "from sklearn.svm import SVC\n",
    "from sklearn.neural_network import MLPClassifier\n",
    "from sklearn.metrics import accuracy_score\n",
    "from sklearn.model_selection import GridSearchCV\n",
    "\n",
    "# Define the parameter grid for SVM\n",
    "svm_param_grid = {\n",
    "    'C': [0.1, 1, 10],  # Regularization parameter\n",
    "    'kernel': ['linear']  # Wrap 'linear' in a list\n",
    "}\n",
    "\n",
    "# Define the parameter grid for MLP\n",
    "mlp_param_grid = {'hidden_layer_sizes': [(50,), (100,), (150,)], 'alpha': [0.0001, 0.001, 0.01]}\n",
    "\n",
    "# Perform grid search for SVM\n",
    "svm_grid_search = GridSearchCV(SVC(), svm_param_grid, cv=3)\n",
    "svm_grid_search.fit(X_train, y_train)\n",
    "\n",
    "# Get the best SVM model\n",
    "best_svm_classifier = svm_grid_search.best_estimator_\n",
    "\n",
    "# Evaluate the best SVM model\n",
    "svm_accuracy = best_svm_classifier.score(X_test, y_test)\n",
    "print(\"Best SVM Accuracy:\", svm_accuracy)\n",
    "print(\"Best SVM Parameters:\", svm_grid_search.best_params_)\n",
    "\n",
    "# Perform grid search for MLP\n",
    "mlp_grid_search = GridSearchCV(MLPClassifier(max_iter=1000, tol=0.01), mlp_param_grid, cv=3)\n",
    "mlp_grid_search.fit(X_train, y_train)\n",
    "\n",
    "# Get the best MLP model\n",
    "best_mlp_classifier = mlp_grid_search.best_estimator_\n",
    "\n",
    "# Evaluate the best MLP model\n",
    "mlp_accuracy = best_mlp_classifier.score(X_test, y_test)\n",
    "print(\"Best MLP Accuracy:\", mlp_accuracy)\n",
    "print(\"Best MLP Parameters:\", mlp_grid_search.best_params_)\n"
   ]
  },
  {
   "cell_type": "code",
   "execution_count": 5,
   "id": "6544a4fc",
   "metadata": {},
   "outputs": [
    {
     "name": "stderr",
     "output_type": "stream",
     "text": [
      "c:\\Users\\msi\\AppData\\Local\\Programs\\Python\\Python310\\lib\\site-packages\\sklearn\\model_selection\\_split.py:725: UserWarning: The least populated class in y has only 1 members, which is less than n_splits=3.\n",
      "  warnings.warn(\n"
     ]
    },
    {
     "name": "stdout",
     "output_type": "stream",
     "text": [
      "Best SVM Accuracy with PCA: 0.9366141732283465\n",
      "Best SVM Parameters with PCA: {'C': 0.1, 'kernel': 'linear'}\n"
     ]
    },
    {
     "name": "stderr",
     "output_type": "stream",
     "text": [
      "c:\\Users\\msi\\AppData\\Local\\Programs\\Python\\Python310\\lib\\site-packages\\sklearn\\model_selection\\_split.py:725: UserWarning: The least populated class in y has only 1 members, which is less than n_splits=3.\n",
      "  warnings.warn(\n"
     ]
    },
    {
     "name": "stdout",
     "output_type": "stream",
     "text": [
      "Best MLP Accuracy with PCA: 0.9362204724409449\n",
      "Best MLP Parameters with PCA: {'alpha': 0.01, 'hidden_layer_sizes': (150,)}\n"
     ]
    }
   ],
   "source": [
    "from sklearn.decomposition import PCA\n",
    "from sklearn.model_selection import GridSearchCV\n",
    "\n",
    "\n",
    "# Apply PCA to the standardized training features\n",
    "pca = PCA(n_components=200)  \n",
    "X_train_pca = pca.fit_transform(X_train)\n",
    "X_test_pca = pca.transform(X_test)\n",
    "\n",
    "# Train SVM classifier on PCA-transformed data\n",
    "svm_classifier_pca = SVC(kernel='linear')\n",
    "svm_classifier_pca.fit(X_train_pca, y_train)\n",
    "\n",
    "# Define the parameter grid for SVM\n",
    "svm_param_grid = {\n",
    "    'C': [0.1, 1, 10],  # Regularization parameter\n",
    "    'kernel': ['linear']\n",
    "}\n",
    "\n",
    "# Perform grid search for SVM\n",
    "svm_grid_search = GridSearchCV(SVC(), svm_param_grid, cv=3)\n",
    "svm_grid_search.fit(X_train_pca, y_train)\n",
    "\n",
    "# Get the best SVM model\n",
    "best_svm_classifier_pca = svm_grid_search.best_estimator_\n",
    "\n",
    "# Evaluate the best SVM model\n",
    "svm_accuracy_pca = best_svm_classifier_pca.score(X_test_pca, y_test)\n",
    "print(\"Best SVM Accuracy with PCA:\", svm_accuracy_pca)\n",
    "print(\"Best SVM Parameters with PCA:\", svm_grid_search.best_params_)\n",
    "\n",
    "# Define the parameter grid for MLP\n",
    "mlp_param_grid = {'hidden_layer_sizes': [(50,), (100,), (150,)], 'alpha': [0.0001, 0.001, 0.01]}\n",
    "\n",
    "# Perform grid search for MLP\n",
    "mlp_grid_search = GridSearchCV(MLPClassifier(max_iter=1000, tol=0.01), mlp_param_grid, cv=3)\n",
    "mlp_grid_search.fit(X_train_pca, y_train)\n",
    "\n",
    "# Get the best MLP model\n",
    "best_mlp_classifier_pca = mlp_grid_search.best_estimator_\n",
    "\n",
    "# Evaluate the best MLP model\n",
    "mlp_accuracy_pca = best_mlp_classifier_pca.score(X_test_pca, y_test)\n",
    "print(\"Best MLP Accuracy with PCA:\", mlp_accuracy_pca)\n",
    "print(\"Best MLP Parameters with PCA:\", mlp_grid_search.best_params_)\n"
   ]
  }
 ],
 "metadata": {
  "kernelspec": {
   "display_name": "Python 3 (ipykernel)",
   "language": "python",
   "name": "python3"
  },
  "language_info": {
   "codemirror_mode": {
    "name": "ipython",
    "version": 3
   },
   "file_extension": ".py",
   "mimetype": "text/x-python",
   "name": "python",
   "nbconvert_exporter": "python",
   "pygments_lexer": "ipython3",
   "version": "3.10.10"
  }
 },
 "nbformat": 4,
 "nbformat_minor": 5
}
